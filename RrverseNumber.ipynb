{
 "cells": [
  {
   "cell_type": "code",
   "execution_count": 1,
   "id": "d7366cff",
   "metadata": {},
   "outputs": [
    {
     "name": "stdout",
     "output_type": "stream",
     "text": [
      "輸入數字320\n",
      "023"
     ]
    }
   ],
   "source": [
    "def reverse(number): #定義function\n",
    "    while(number!=0):\n",
    "        print(number%10,end='') #取最右邊的數字，並且讓下一次輸入不換行\n",
    "        number//=10 #讓number右移\n",
    "integer = int(input('輸入數字')) #要輸入的整數\n",
    "reverse(integer) #使用function"
   ]
  },
  {
   "cell_type": "code",
   "execution_count": null,
   "id": "e474bbe4",
   "metadata": {},
   "outputs": [],
   "source": []
  }
 ],
 "metadata": {
  "kernelspec": {
   "display_name": "Python 3",
   "language": "python",
   "name": "python3"
  },
  "language_info": {
   "codemirror_mode": {
    "name": "ipython",
    "version": 3
   },
   "file_extension": ".py",
   "mimetype": "text/x-python",
   "name": "python",
   "nbconvert_exporter": "python",
   "pygments_lexer": "ipython3",
   "version": "3.8.8"
  }
 },
 "nbformat": 4,
 "nbformat_minor": 5
}
