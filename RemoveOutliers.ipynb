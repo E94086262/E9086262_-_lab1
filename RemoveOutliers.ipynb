{
 "cells": [
  {
   "cell_type": "code",
   "execution_count": 1,
   "id": "61fe8549",
   "metadata": {},
   "outputs": [
    {
     "name": "stdout",
     "output_type": "stream",
     "text": [
      "Enter the number of smallest and largest values to remove:2\n",
      "Enter a value (Q or q to quit:)12547\n",
      "Enter a value (Q or q to quit:5265\n",
      "Enter a value (Q or q to quit:21\n",
      "Enter a value (Q or q to quit:4124\n",
      "Enter a value (Q or q to quit:78547\n",
      "Enter a value (Q or q to quit:41\n",
      "Enter a value (Q or q to quit:4\n",
      "Enter a value (Q or q to quit:230\n",
      "Enter a value (Q or q to quit:524\n",
      "Enter a value (Q or q to quit:q\n",
      "The original data:  [12547, 5265, 21, 4124, 78547, 41, 4, 230, 524]\n",
      "the data with the outliers removed: [41, 230, 524, 4124, 5265]\n",
      "The outliers:  [4, 21, 12547, 78547]\n"
     ]
    }
   ],
   "source": [
    "def remove_outliers(n,list_orgin): #依照提議使用function，n為最大和最小值各要刪掉的數量\n",
    "    list_outliers=[] #用來儲存被刪掉的數據\n",
    "    for i in range(n):\n",
    "        if(number*2<len(list_orgin)):\n",
    "            Max=max(list_orgin)  #取數據中的最大值\n",
    "            Min=min(list_orgin)  #取.......最小值\n",
    "            list_orgin.remove(Max)  #刪掉數據中的最大值\n",
    "            list_orgin.remove(Min)  #刪除.......最小值\n",
    "            list_outliers.append(Min) #將被刪掉的最大值匯入list_outliers串列裡\n",
    "            list_outliers.append(Max) #將......最小值.........\n",
    "        else:\n",
    "            list1=[] #如果總刪除數量(number*2)大於等於總輸入數據數量的話，則輸出空串列\n",
    "    list_orgin.sort()\n",
    "    print('the data with the outliers removed: ',end='')\n",
    "    print(list_orgin)\n",
    "    list_outliers.sort()\n",
    "    print('The outliers: ',list_outliers)\n",
    "\n",
    "list1=[] #用來儲存原始數據的串列\n",
    "number=int(input('Enter the number of smallest and largest values to remove:')) #最大值和最小值各要刪掉的數量\n",
    "value=input('Enter a value (Q or q to quit:)') #輸入的數據\n",
    "while(value!='Q' and value!='q'):\n",
    "    list1.append(int(value))  #將數據匯入list1串列裡\n",
    "    value = (input('Enter a value (Q or q to quit:'))\n",
    "print('The original data: ',list1)\n",
    "\n",
    "remove_outliers(number,list1) #呼叫function"
   ]
  },
  {
   "cell_type": "code",
   "execution_count": null,
   "id": "f78873a2",
   "metadata": {},
   "outputs": [],
   "source": []
  },
  {
   "cell_type": "code",
   "execution_count": null,
   "id": "253fe79d",
   "metadata": {},
   "outputs": [],
   "source": []
  }
 ],
 "metadata": {
  "kernelspec": {
   "display_name": "Python 3",
   "language": "python",
   "name": "python3"
  },
  "language_info": {
   "codemirror_mode": {
    "name": "ipython",
    "version": 3
   },
   "file_extension": ".py",
   "mimetype": "text/x-python",
   "name": "python",
   "nbconvert_exporter": "python",
   "pygments_lexer": "ipython3",
   "version": "3.8.8"
  }
 },
 "nbformat": 4,
 "nbformat_minor": 5
}
